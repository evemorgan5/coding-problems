{
 "cells": [
  {
   "cell_type": "code",
   "execution_count": 59,
   "id": "4baae5b9",
   "metadata": {},
   "outputs": [],
   "source": [
    "emails = [\"test.email+alex@leetcode.com\",\"test.e.mail+bob.cathy@leetcode.com\",\"testemail+david@lee.tcode.com\"]\n",
    "\n",
    "#  output 2     \"testemail@leetcode.com\",\"testemail@lee.tcode.com\"\n",
    "\n",
    "# for each in emails:\n",
    "#     if \".\" before \"@\":\n",
    "#         each = each.replace(\".\",\"\")\n",
    "# elif \"+\" in each:\n",
    "#     each.split(\"+\")\n",
    "# print(emails)        \n",
    "    \n",
    "        "
   ]
  },
  {
   "cell_type": "code",
   "execution_count": 60,
   "id": "c6db5ecb",
   "metadata": {},
   "outputs": [
    {
     "data": {
      "text/plain": [
       "'testemail@leetcodecom'"
      ]
     },
     "execution_count": 60,
     "metadata": {},
     "output_type": "execute_result"
    }
   ],
   "source": [
    "first_email = emails[0].replace(\".\",\"\").split(\"+\")[0]\n",
    "first_email"
   ]
  },
  {
   "cell_type": "code",
   "execution_count": 61,
   "id": "1a5120e6",
   "metadata": {},
   "outputs": [
    {
     "data": {
      "text/plain": [
       "2"
      ]
     },
     "execution_count": 61,
     "metadata": {},
     "output_type": "execute_result"
    }
   ],
   "source": [
    "def edit_email(email_add):\n",
    "    split_email = email_add.split(\"@\")\n",
    "    # print(split_email,split_email[0])\n",
    "    split_email[0] = split_email[0].replace(\".\",\"\").split(\"+\")[0]\n",
    "    # print(split_email,split_email[1])\n",
    "    \n",
    "    edited_email = split_email[0] + \"@\" + split_email[1]\n",
    "    return edited_email\n",
    "\n",
    "edited_emails = []\n",
    "for email in emails:\n",
    "    edited_emails.append(edit_email(email))    \n",
    "len(set(edited_emails))"
   ]
  },
  {
   "cell_type": "code",
   "execution_count": null,
   "id": "b5f2a011",
   "metadata": {},
   "outputs": [],
   "source": []
  },
  {
   "cell_type": "code",
   "execution_count": null,
   "id": "56a5fee3",
   "metadata": {},
   "outputs": [],
   "source": []
  },
  {
   "cell_type": "code",
   "execution_count": null,
   "id": "54ec4dce",
   "metadata": {},
   "outputs": [],
   "source": []
  },
  {
   "cell_type": "code",
   "execution_count": null,
   "id": "b4141b0e",
   "metadata": {},
   "outputs": [],
   "source": []
  }
 ],
 "metadata": {
  "kernelspec": {
   "display_name": "Python 3",
   "language": "python",
   "name": "python3"
  },
  "language_info": {
   "codemirror_mode": {
    "name": "ipython",
    "version": 3
   },
   "file_extension": ".py",
   "mimetype": "text/x-python",
   "name": "python",
   "nbconvert_exporter": "python",
   "pygments_lexer": "ipython3",
   "version": "3.8.8"
  }
 },
 "nbformat": 4,
 "nbformat_minor": 5
}
