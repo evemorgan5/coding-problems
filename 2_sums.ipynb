{
 "cells": [
  {
   "cell_type": "code",
   "execution_count": 19,
   "id": "87630fda",
   "metadata": {},
   "outputs": [
    {
     "name": "stdout",
     "output_type": "stream",
     "text": [
      "no pair sums to target\n",
      "no pair sums to target\n",
      "[4, 3]\n",
      "[0, 4]\n",
      "no pair sums to target\n"
     ]
    }
   ],
   "source": [
    "nums = [2,5,11,2,7,15] \n",
    "\n",
    "target = 9\n",
    "\n",
    "\n",
    "for i in range(len(nums)):\n",
    "    if nums[0] + nums[i+1] == target:\n",
    "        print([0, i+1])\n",
    "    elif nums[1] + nums[i+1] == target:\n",
    "        print([1, i+1])\n",
    "    elif nums[2] + nums[i+1] == target:\n",
    "        print([2, i+1])\n",
    "    elif nums[3] + nums[i+1]  == target:\n",
    "        print([3, i+1])\n",
    "    elif nums[4] + nums[i+1]  == target:\n",
    "        print([4, i+1])\n",
    "    else:\n",
    "        print(\"no pair sums to target\")\n",
    "\n",
    "        \n",
    "        \n",
    "    \n",
    "    \n",
    "    \n",
    "# Output: [0,1]\n",
    "# Output: Because nums[0] + nums[1] == 9, we return [0, 1]."
   ]
  },
  {
   "cell_type": "code",
   "execution_count": 32,
   "id": "24452a74",
   "metadata": {},
   "outputs": [
    {
     "name": "stdout",
     "output_type": "stream",
     "text": [
      "i 0\n",
      "j 1\n",
      "j 2\n",
      "j 3\n",
      "j 4\n",
      "[0, 4]\n",
      "j 5\n",
      "i 1\n",
      "j 2\n",
      "j 3\n",
      "j 4\n",
      "j 5\n",
      "i 2\n",
      "j 3\n",
      "j 4\n",
      "j 5\n",
      "i 3\n",
      "j 4\n",
      "[3, 4]\n",
      "j 5\n",
      "i 4\n",
      "j 5\n"
     ]
    },
    {
     "data": {
      "text/plain": [
       "range(0, 6)"
      ]
     },
     "execution_count": 32,
     "metadata": {},
     "output_type": "execute_result"
    }
   ],
   "source": [
    "nums = [2, 5, 11, 2, 7, 15] \n",
    "\n",
    "target = 9\n",
    "\n",
    "for i in range(len(nums) - 1):\n",
    "    print(\"i\", i)\n",
    "    for j in range(i + 1, len(nums)):\n",
    "        print(\"j\", j)\n",
    "        if nums[i] + nums[j] == target:\n",
    "            print([i, j])\n",
    "            \n",
    "range(len(nums))"
   ]
  },
  {
   "cell_type": "code",
   "execution_count": null,
   "id": "d78ef695",
   "metadata": {},
   "outputs": [],
   "source": []
  }
 ],
 "metadata": {
  "kernelspec": {
   "display_name": "Python 3",
   "language": "python",
   "name": "python3"
  },
  "language_info": {
   "codemirror_mode": {
    "name": "ipython",
    "version": 3
   },
   "file_extension": ".py",
   "mimetype": "text/x-python",
   "name": "python",
   "nbconvert_exporter": "python",
   "pygments_lexer": "ipython3",
   "version": "3.8.8"
  }
 },
 "nbformat": 4,
 "nbformat_minor": 5
}
