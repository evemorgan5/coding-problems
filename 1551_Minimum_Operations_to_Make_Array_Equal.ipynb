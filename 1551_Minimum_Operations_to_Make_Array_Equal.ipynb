{
 "cells": [
  {
   "cell_type": "code",
   "execution_count": 24,
   "id": "b311f566",
   "metadata": {},
   "outputs": [
    {
     "name": "stdout",
     "output_type": "stream",
     "text": [
      "range(0, 6)\n"
     ]
    },
    {
     "data": {
      "text/plain": [
       "[9, 3, 5, 7, 9, 9]"
      ]
     },
     "execution_count": 24,
     "metadata": {},
     "output_type": "execute_result"
    }
   ],
   "source": [
    "n = 6\n",
    "\n",
    "# arr[i] = (2 * i) + 1 for all valid values of i (i.e. 0 <= i < n).\n",
    "# Output: 2\n",
    "# Explanation: arr = [1, 3, 5]\n",
    "# First operation choose x = 2 and y = 0, this leads arr to be [2, 3, 4]\n",
    "# In the second operation choose x = 2 and y = 0 again, thus arr = [3, 3, 3].\n",
    "\n",
    "\n",
    "# x and y where 0 <= x, y < n and subtract 1 from arr[x] and add 1 to arr[y] \n",
    "# (i.e. perform arr[x] -=1 and arr[y] += 1). The goal is to make all the elements of the array equal\n",
    "# It is guaranteed that all the elements of the array can be made equal using some operations.\n",
    "\n",
    "arr = [1, 3, 5, 7, 9, 11]\n",
    "\n",
    "print(range(len(arr)))\n",
    "\n",
    "\n",
    "arr[n-n] += n+ 1\n",
    "arr[n-1] -= 1\n",
    "\n",
    "\n",
    "arr[n-1] -= 1\n",
    "arr[n-n] += 1\n",
    "\n",
    "arr"
   ]
  },
  {
   "cell_type": "code",
   "execution_count": 78,
   "id": "f147646a",
   "metadata": {},
   "outputs": [
    {
     "name": "stdout",
     "output_type": "stream",
     "text": [
      "[3, 3, 3] 2\n"
     ]
    }
   ],
   "source": [
    "n = 3 \n",
    "arr = [1, 3, 5]\n",
    "\n",
    "target = sum(arr)/ n\n",
    "\n",
    "target_list = n*[target]\n",
    "\n",
    "def operation_add1_sub1(array,n):\n",
    "    array[n-n] += 1\n",
    "    array[n-1] -= 1\n",
    "    return array\n",
    "\n",
    "\n",
    "no_operations = 0\n",
    "while arr != target_list:\n",
    "    arr = operation_add1_sub1(arr,n)\n",
    "    no_operations += 1    \n",
    "\n",
    "print(arr, no_operations)\n"
   ]
  },
  {
   "cell_type": "code",
   "execution_count": 114,
   "id": "a8f7cbcc",
   "metadata": {},
   "outputs": [
    {
     "name": "stdout",
     "output_type": "stream",
     "text": [
      "[6.0, 6.0, 6.0, 6.0, 6.0, 6.0]\n",
      "[2, 3, 5, 7, 9, 10] 1\n",
      "[3, 3, 5, 7, 9, 9] 2\n",
      "[4, 3, 5, 7, 9, 8] 3\n",
      "[5, 3, 5, 7, 9, 7] 4\n",
      "[6, 3, 5, 7, 9, 6] 5\n",
      "[6, 4, 5, 7, 8, 6] 6\n",
      "[6, 5, 5, 7, 7, 6] 7\n",
      "[6, 6, 5, 7, 6, 6] 8\n",
      "[6, 6, 6, 6, 6, 6] 9\n"
     ]
    },
    {
     "data": {
      "text/plain": [
       "9"
      ]
     },
     "execution_count": 114,
     "metadata": {},
     "output_type": "execute_result"
    }
   ],
   "source": [
    "arr = [1, 3, 5, 7, 9, 11]\n",
    "n = len(arr)\n",
    "\n",
    "target = sum(arr) / n\n",
    "target_list = n * [target]\n",
    "\n",
    "print(target_list)\n",
    "\n",
    "\n",
    "\n",
    "def operation_add1_sub1(array, start_pos):\n",
    "    array[start_pos] += 1\n",
    "    array[len(array) - 1 - start_pos] -= 1\n",
    "    return array\n",
    "\n",
    "\n",
    "\n",
    "no_operations = 0\n",
    "for i in range(n):\n",
    "    while arr[i] != target_list[i]:\n",
    "        arr = operation_add1_sub1(arr, i)\n",
    "        no_operations += 1\n",
    "        print(arr, no_operations)\n",
    "\n",
    "no_operations\n"
   ]
  },
  {
   "cell_type": "code",
   "execution_count": null,
   "id": "99db013f",
   "metadata": {},
   "outputs": [],
   "source": [
    "\n"
   ]
  },
  {
   "cell_type": "code",
   "execution_count": null,
   "id": "b60e685b",
   "metadata": {},
   "outputs": [],
   "source": []
  },
  {
   "cell_type": "code",
   "execution_count": null,
   "id": "7917fa66",
   "metadata": {},
   "outputs": [],
   "source": []
  },
  {
   "cell_type": "code",
   "execution_count": null,
   "id": "482ef1f4",
   "metadata": {},
   "outputs": [],
   "source": []
  }
 ],
 "metadata": {
  "kernelspec": {
   "display_name": "Python 3",
   "language": "python",
   "name": "python3"
  },
  "language_info": {
   "codemirror_mode": {
    "name": "ipython",
    "version": 3
   },
   "file_extension": ".py",
   "mimetype": "text/x-python",
   "name": "python",
   "nbconvert_exporter": "python",
   "pygments_lexer": "ipython3",
   "version": "3.8.8"
  }
 },
 "nbformat": 4,
 "nbformat_minor": 5
}
