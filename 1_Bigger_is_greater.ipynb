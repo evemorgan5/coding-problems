{
 "cells": [
  {
   "cell_type": "code",
   "execution_count": 28,
   "id": "11055fc9",
   "metadata": {},
   "outputs": [],
   "source": [
    "string_1 = \"ab\"\n",
    "string_2 = \"bb\"\n",
    "string_3 = \"hefg\"\n",
    "string_4 = \"dhck\"\n",
    "string_5 = \"dkhc\"\n",
    "\n",
    "\n",
    "\n",
    "dict_letter_values = {\"a\": \"1\", \"b\": \"2\", \"c\": \"3\", \"d\": \"4\", \"e\": \"5\", \"f\": \"6\", \"g\": \"7\", \"h\": \"8\", \"k\": \"9\"}"
   ]
  },
  {
   "cell_type": "code",
   "execution_count": 29,
   "id": "50744444",
   "metadata": {},
   "outputs": [],
   "source": [
    "def check_if_greatest_perm_num(num):\n",
    "    ls_num = list(str(num))\n",
    "    n_greater = 0\n",
    "    n_iters = len(ls_num) - 1 \n",
    "    \n",
    "    for i in range(n_iters):\n",
    "        if ls_num[i] >= ls_num[i + 1]:\n",
    "            n_greater += 1\n",
    "    \n",
    "    if n_greater == n_iters:\n",
    "        return True\n",
    "    else: \n",
    "        return False"
   ]
  },
  {
   "cell_type": "code",
   "execution_count": 37,
   "id": "524aaaab",
   "metadata": {},
   "outputs": [
    {
     "name": "stdout",
     "output_type": "stream",
     "text": [
      "8349\n"
     ]
    },
    {
     "data": {
      "text/plain": [
       "8349"
      ]
     },
     "execution_count": 37,
     "metadata": {},
     "output_type": "execute_result"
    }
   ],
   "source": [
    "x_ls = []\n",
    "for letter in string_5: \n",
    "        x_ls.append(dict_letter_values[letter])    \n",
    "x_num = int(\"\".join(x_ls))\n",
    "\n",
    "x_num\n",
    "\n",
    "\n",
    "if check_if_greatest_perm_num(x_num):\n",
    "    print(\"no answer\")\n",
    "else:\n",
    "    next_num = x_num + 1 \n",
    "    not_found = True\n",
    "    while not_found: \n",
    "        if check_if_perm(x_num, next_num):\n",
    "            print(next_num)\n",
    "            not_found = False\n",
    "        else:\n",
    "            next_num += 1\n",
    "\n",
    "next_num          "
   ]
  },
  {
   "cell_type": "code",
   "execution_count": 35,
   "id": "8437659e",
   "metadata": {},
   "outputs": [],
   "source": [
    "def check_if_perm(num_1, num_2):\n",
    "    keys_num_1 = list(str(num_1))\n",
    "    keys_num_2 = list(str(num_2))\n",
    "\n",
    "    all_keys = keys_num_1 + keys_num_2\n",
    "    keys = set(all_keys)\n",
    "\n",
    "    dict_num_1 = {}\n",
    "    dict_num_2 = {}\n",
    "    for key in keys:\n",
    "        dict_num_1[key] = 0 \n",
    "        dict_num_2[key] = 0 \n",
    "\n",
    "\n",
    "    for num in keys_num_1:\n",
    "        dict_num_1[num] += 1\n",
    "\n",
    "\n",
    "    for num in keys_num_2:\n",
    "        dict_num_2[num] += 1\n",
    "\n",
    "#     print(dict_num_1) \n",
    "#     print(dict_num_2)\n",
    "\n",
    "    if dict_num_1 == dict_num_2:\n",
    "        return True\n",
    "    else:\n",
    "        return False\n",
    "    \n",
    "\n",
    "    "
   ]
  },
  {
   "cell_type": "code",
   "execution_count": null,
   "id": "e8e1eacf",
   "metadata": {},
   "outputs": [],
   "source": []
  }
 ],
 "metadata": {
  "kernelspec": {
   "display_name": "Python 3",
   "language": "python",
   "name": "python3"
  },
  "language_info": {
   "codemirror_mode": {
    "name": "ipython",
    "version": 3
   },
   "file_extension": ".py",
   "mimetype": "text/x-python",
   "name": "python",
   "nbconvert_exporter": "python",
   "pygments_lexer": "ipython3",
   "version": "3.8.8"
  }
 },
 "nbformat": 4,
 "nbformat_minor": 5
}
