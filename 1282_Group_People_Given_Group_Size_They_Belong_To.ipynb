{
 "cells": [
  {
   "cell_type": "code",
   "execution_count": 11,
   "id": "d9171020",
   "metadata": {},
   "outputs": [
    {
     "ename": "SyntaxError",
     "evalue": "invalid syntax (<ipython-input-11-dd3d6c2da304>, line 15)",
     "output_type": "error",
     "traceback": [
      "\u001b[0;36m  File \u001b[0;32m\"<ipython-input-11-dd3d6c2da304>\"\u001b[0;36m, line \u001b[0;32m15\u001b[0m\n\u001b[0;31m    if each_person == :\u001b[0m\n\u001b[0m                      ^\u001b[0m\n\u001b[0;31mSyntaxError\u001b[0m\u001b[0;31m:\u001b[0m invalid syntax\n"
     ]
    }
   ],
   "source": [
    "people = [0,1,2,3,4,5,6]\n",
    "groupSizes = [3,3,3,3,3,1,3]\n",
    "\n",
    "n = len(groupSizes)\n",
    "# n = 7 \n",
    "\n",
    "\n",
    "\n",
    "# Output: [[5],[0,1,2],[3,4,6]]\n",
    "    \n",
    "# group_of_three = []\n",
    "# group_of_one = []\n",
    "\n",
    "# for each_person in groupSizes:\n",
    "#     if each_person == :\n",
    "#         group_of_three.append(each_person)   \n",
    "#     elif \n",
    "\n",
    "\n",
    "    "
   ]
  },
  {
   "cell_type": "code",
   "execution_count": 77,
   "id": "ccd9a063",
   "metadata": {},
   "outputs": [
    {
     "name": "stdout",
     "output_type": "stream",
     "text": [
      "[[0, 1, 2], [3, 4, 6], [5]]\n"
     ]
    }
   ],
   "source": [
    "# people = [0,1,2,3,4,5,6]\n",
    "groupSizes = [3,3,3,3,3,1,3]\n",
    "\n",
    "\n",
    "def gen_group_mapping_dict(groupSizes):\n",
    "    dict_ = {}\n",
    "    for i in range(len(groupSizes)):\n",
    "        if groupSizes[i] not in dict_:\n",
    "            dict_[groupSizes[i]] = []\n",
    "        dict_[groupSizes[i]].append(i)\n",
    "    return dict_\n",
    "\n",
    "dict_ = gen_group_mapping_dict(groupSizes)\n",
    "# dict_ = {1: [5], 3: [0, 1, 2, 3, 4, 6]}\n",
    "\n",
    "final = []\n",
    "for n in dict_:\n",
    "    final.extend([dict_[n][i * n:(i + 1) * n] for i in range((len(dict_[n]) + n - 1) // n )])\n",
    "print(final)\n"
   ]
  },
  {
   "cell_type": "code",
   "execution_count": null,
   "id": "264050d0",
   "metadata": {},
   "outputs": [],
   "source": []
  },
  {
   "cell_type": "code",
   "execution_count": null,
   "id": "89858997",
   "metadata": {},
   "outputs": [],
   "source": []
  },
  {
   "cell_type": "code",
   "execution_count": null,
   "id": "6656f3d0",
   "metadata": {},
   "outputs": [],
   "source": []
  }
 ],
 "metadata": {
  "kernelspec": {
   "display_name": "Python 3",
   "language": "python",
   "name": "python3"
  },
  "language_info": {
   "codemirror_mode": {
    "name": "ipython",
    "version": 3
   },
   "file_extension": ".py",
   "mimetype": "text/x-python",
   "name": "python",
   "nbconvert_exporter": "python",
   "pygments_lexer": "ipython3",
   "version": "3.8.8"
  }
 },
 "nbformat": 4,
 "nbformat_minor": 5
}
