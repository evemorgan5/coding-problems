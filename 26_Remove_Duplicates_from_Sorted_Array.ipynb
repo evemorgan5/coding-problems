{
 "cells": [
  {
   "cell_type": "code",
   "execution_count": 15,
   "id": "1b0076ac",
   "metadata": {},
   "outputs": [
    {
     "data": {
      "text/plain": [
       "['b', 'c', 'a']"
      ]
     },
     "execution_count": 15,
     "metadata": {},
     "output_type": "execute_result"
    }
   ],
   "source": [
    "nums = [1,1,2]\n",
    "# Output: 2, nums = [1,2,_]\n",
    "# Explanation: Your function should return k = 2, with the first two elements of nums being 1 and 2 respectively.\n",
    "# It does not matter what you leave beyond the returned k (hence they are underscores).\n",
    "\n",
    "\n",
    "\n",
    "# no_dup = set(nums)\n",
    "# no_dup_list = list(no_dup)\n",
    "# print(no_dup_list)\n",
    "\n",
    "\n",
    "def remove_duplicates(list_):\n",
    "    no_dup = set(list_)\n",
    "    no_dup_list = list(no_dup)\n",
    "    return no_dup_list\n",
    "\n",
    "remove_duplicates(nums)\n",
    "\n",
    "letters = [\"a\",\"b\",\"a\",\"a\",\"c\"]\n",
    "\n",
    "remove_duplicates(letters)"
   ]
  },
  {
   "cell_type": "code",
   "execution_count": null,
   "id": "9285d8a5",
   "metadata": {},
   "outputs": [],
   "source": []
  }
 ],
 "metadata": {
  "kernelspec": {
   "display_name": "Python 3",
   "language": "python",
   "name": "python3"
  },
  "language_info": {
   "codemirror_mode": {
    "name": "ipython",
    "version": 3
   },
   "file_extension": ".py",
   "mimetype": "text/x-python",
   "name": "python",
   "nbconvert_exporter": "python",
   "pygments_lexer": "ipython3",
   "version": "3.8.8"
  }
 },
 "nbformat": 4,
 "nbformat_minor": 5
}
