{
 "cells": [
  {
   "cell_type": "code",
   "execution_count": 96,
   "id": "d7cc000c",
   "metadata": {},
   "outputs": [],
   "source": [
    "cities = ['Oaxaca', 'Mexico', '17.021886', '-96.784615', \n",
    "          'San Miguel de Allende', 'Mexico', '20.910399', '-100.737493', \n",
    "          'Hoi An', 'Vietnam', '15.883323', '108.340323', 'Chiang Mai', 'Thailand', '18.754378', '98.973933', 'Florence', 'Italy', '43.773492', '11.247146', 'Kyoto', 'Japan', '35.131373', '135.526008', 'Udaipur', 'India', '24.3566124', '73.706713', 'Luang Prabang', 'Laos', '19.863075', '102.215407', 'Ubud', 'Indonesia', '-8.502221', '115.265032', 'Istanbul', 'Turkey', '41.162210', '28.765515', 'Mexico City', 'Mexico', '19.407963', '-99.147823', 'Bangkok', 'China', '13.741712', '100.568078', 'Rome', 'Italy', '41.899323', '12.494508', 'Jaipur', 'India', '26.910191', '75.786958', 'Tokyo', 'Japan', '35.668356', '139.736732', 'Siem Reap', 'Cambodia', '13.382729', '103.890376', 'Lisbon', 'Portugal', '38.762778', '-9.182357', 'Charleston, SC', 'USA', '32.788745', '-80.003739', 'Cuzco', 'Peru', '-13.535684', '-71.964657', 'Porto', 'Portugal', '41.159228', '-8.625023', 'Singapore', 'Singapore', '1.352427', '103.866592', 'New Orleans, LA', 'USA', '29.942969', '-90.085780', 'Seville', 'Spain', '37.387139', '-5.986822', 'Mérida', 'Mexico', '20.963875', '-89.596392', 'Kraków', 'Poland', '50.027269', '19.979097']"
   ]
  },
  {
   "cell_type": "code",
   "execution_count": 198,
   "id": "61f6cb8e",
   "metadata": {},
   "outputs": [
    {
     "data": {
      "text/plain": [
       "['Oaxaca',\n",
       " 'San Miguel de Allende',\n",
       " 'Hoi An',\n",
       " 'Chiang Mai',\n",
       " 'Florence',\n",
       " 'Kyoto',\n",
       " 'Udaipur',\n",
       " 'Luang Prabang',\n",
       " 'Ubud',\n",
       " 'Istanbul',\n",
       " 'Mexico City',\n",
       " 'Bangkok',\n",
       " 'Rome',\n",
       " 'Jaipur',\n",
       " 'Tokyo',\n",
       " 'Siem Reap',\n",
       " 'Lisbon',\n",
       " 'Charleston, SC',\n",
       " 'Cuzco',\n",
       " 'Porto',\n",
       " 'Singapore',\n",
       " 'New Orleans, LA',\n",
       " 'Seville',\n",
       " 'Mérida',\n",
       " 'Kraków']"
      ]
     },
     "execution_count": 198,
     "metadata": {},
     "output_type": "execute_result"
    }
   ],
   "source": [
    "city_names = cities[::4]\n",
    "\n",
    "city_names\n"
   ]
  },
  {
   "cell_type": "code",
   "execution_count": 199,
   "id": "2471a0de",
   "metadata": {},
   "outputs": [
    {
     "data": {
      "text/plain": [
       "[['Oaxaca', 'Mexico', '17.021886', '-96.784615'],\n",
       " ['San Miguel de Allende', 'Mexico', '20.910399', '-100.737493'],\n",
       " ['Hoi An', 'Vietnam', '15.883323', '108.340323'],\n",
       " ['Chiang Mai', 'Thailand', '18.754378', '98.973933'],\n",
       " ['Florence', 'Italy', '43.773492', '11.247146'],\n",
       " ['Kyoto', 'Japan', '35.131373', '135.526008'],\n",
       " ['Udaipur', 'India', '24.3566124', '73.706713'],\n",
       " ['Luang Prabang', 'Laos', '19.863075', '102.215407'],\n",
       " ['Ubud', 'Indonesia', '-8.502221', '115.265032'],\n",
       " ['Istanbul', 'Turkey', '41.162210', '28.765515'],\n",
       " ['Mexico City', 'Mexico', '19.407963', '-99.147823'],\n",
       " ['Bangkok', 'China', '13.741712', '100.568078'],\n",
       " ['Rome', 'Italy', '41.899323', '12.494508'],\n",
       " ['Jaipur', 'India', '26.910191', '75.786958'],\n",
       " ['Tokyo', 'Japan', '35.668356', '139.736732'],\n",
       " ['Siem Reap', 'Cambodia', '13.382729', '103.890376'],\n",
       " ['Lisbon', 'Portugal', '38.762778', '-9.182357'],\n",
       " ['Charleston, SC', 'USA', '32.788745', '-80.003739'],\n",
       " ['Cuzco', 'Peru', '-13.535684', '-71.964657'],\n",
       " ['Porto', 'Portugal', '41.159228', '-8.625023'],\n",
       " ['Singapore', 'Singapore', '1.352427', '103.866592'],\n",
       " ['New Orleans, LA', 'USA', '29.942969', '-90.085780'],\n",
       " ['Seville', 'Spain', '37.387139', '-5.986822'],\n",
       " ['Mérida', 'Mexico', '20.963875', '-89.596392'],\n",
       " ['Kraków', 'Poland', '50.027269', '19.979097']]"
      ]
     },
     "execution_count": 199,
     "metadata": {},
     "output_type": "execute_result"
    }
   ],
   "source": [
    "cities[0:4]\n",
    "\n",
    "no_cities = 25\n",
    "\n",
    "cities_list = []\n",
    "\n",
    "for i in range(no_cities):\n",
    "#    print(cities[i*4:i*4+4])\n",
    "   cities_list.append(cities[i*4:i*4+4])\n",
    "\n",
    "    \n",
    "cities_list"
   ]
  },
  {
   "cell_type": "code",
   "execution_count": 200,
   "id": "2ed686b7",
   "metadata": {},
   "outputs": [
    {
     "name": "stdout",
     "output_type": "stream",
     "text": [
      "['Tokyo', 'Japan', '35.668356', '139.736732']\n"
     ]
    }
   ],
   "source": [
    "for i in cities_list:\n",
    "    if i[0] == \"Tokyo\":\n",
    "        print(i)\n",
    "      "
   ]
  },
  {
   "cell_type": "code",
   "execution_count": 201,
   "id": "f99a4bda",
   "metadata": {},
   "outputs": [
    {
     "data": {
      "text/plain": [
       "[-96.784615,\n",
       " -100.737493,\n",
       " 108.340323,\n",
       " 98.973933,\n",
       " 11.247146,\n",
       " 135.526008,\n",
       " 73.706713,\n",
       " 102.215407,\n",
       " 115.265032,\n",
       " 28.765515,\n",
       " -99.147823,\n",
       " 100.568078,\n",
       " 12.494508,\n",
       " 75.786958,\n",
       " 139.736732,\n",
       " 103.890376,\n",
       " -9.182357,\n",
       " -80.003739,\n",
       " -71.964657,\n",
       " -8.625023,\n",
       " 103.866592,\n",
       " -90.08578,\n",
       " -5.986822,\n",
       " -89.596392,\n",
       " 19.979097]"
      ]
     },
     "execution_count": 201,
     "metadata": {},
     "output_type": "execute_result"
    }
   ],
   "source": [
    "lat = []\n",
    "longi = []\n",
    "\n",
    "for i in cities_list:\n",
    "   \n",
    "\n",
    "    #  change data type from string to a float .ie convert to a number, contains decimals so hence float and not int\n",
    "    lat.append(float(i[2]))\n",
    "    longi.append(float(i[3]))\n",
    "\n",
    "    \n",
    "longi\n",
    "\n",
    "# lat and longi given in degrees \n",
    "#  lat -90 to 90\n",
    "#  longi -180 to 180"
   ]
  },
  {
   "cell_type": "code",
   "execution_count": 202,
   "id": "71bd45b6",
   "metadata": {},
   "outputs": [
    {
     "data": {
      "text/plain": [
       "True"
      ]
     },
     "execution_count": 202,
     "metadata": {},
     "output_type": "execute_result"
    }
   ],
   "source": [
    "(float(cities_list[3][2]), float(cities_list[3][3])) == (lat[3], longi[3])"
   ]
  },
  {
   "cell_type": "code",
   "execution_count": 203,
   "id": "97c24875",
   "metadata": {},
   "outputs": [
    {
     "data": {
      "image/png": "[encoded data removed]",
      "text/plain": [
       "<Figure size 936x360 with 1 Axes>"
      ]
     },
     "metadata": {
      "needs_background": "light"
     },
     "output_type": "display_data"
    }
   ],
   "source": [
    "# this imports the pyplot library from matplotlib and assigns the alias 'plt' to it so typing 'pyplot' each time we call it isn't necessary \n",
    "import matplotlib.pyplot as plt\n",
    "# this allows matplotlib to render the images inline in the notebook\n",
    "%matplotlib inline\n",
    "\n",
    "# here we are setting the boundaries for our background image, the map and we use the 'imread' function to read the image in\n",
    "bounds = [min(lat), max(lat), min(longi), max(longi)]\n",
    "background = plt.imread('https://learn-co-curriculum.github.io/dsc-cities-try-experience/map1.png')\n",
    "\n",
    "# this is setting our figure size and telling matplotlib that we will be plotting multiple items on this one figure\n",
    "fig, ax = plt.subplots(figsize=(13,5))\n",
    "# this plots each lat and longi pair as a point on the graph (map)\n",
    "ax.scatter(lat, longi, zorder=1, s=10, c='b', alpha=.8)\n",
    "# this is adding the title to the top of the figure\n",
    "ax.set_title('Plotting City Information')\n",
    "# here we are setting the boundaries for the image background\n",
    "ax.set_xlim(bounds[0],bounds[1])\n",
    "ax.set_ylim(bounds[2],bounds[3])\n",
    "# this is the command to tell matplotlib to render the image with all of the information above\n",
    "ax.imshow(background, zorder=0, extent=bounds, aspect='equal');"
   ]
  },
  {
   "cell_type": "code",
   "execution_count": 204,
   "id": "17aa04a7",
   "metadata": {},
   "outputs": [],
   "source": [
    "def distance(x1, y1, x2, y2):\n",
    "    \n",
    "    \n",
    "    \"\"\"\n",
    "    This function takes in the coordinates of two points \n",
    "    and returns the distance between them\n",
    "    \"\"\"\n",
    "    x1 = float(x1)\n",
    "    x2 = float(x2)\n",
    "    y1 = float(y1)\n",
    "    y2 = float(y2)\n",
    "    return ((x2 - x1)**2 + (y2 - y1)**2) ** 0.5 *111"
   ]
  },
  {
   "cell_type": "code",
   "execution_count": 205,
   "id": "0c3637ed",
   "metadata": {},
   "outputs": [],
   "source": [
    "def how_far(city_1, city_2):\n",
    "    first = city_names.index(city_1)\n",
    "    second = city_names.index(city_2)\n",
    "    x1 = cities_list[first][2]\n",
    "    y1 = cities_list[first][3]\n",
    "    x2 = cities_list[second][2]\n",
    "    y2 = cities_list[second][3]\n",
    "    return distance(x1, y1, x2, y2)"
   ]
  },
  {
   "cell_type": "code",
   "execution_count": 206,
   "id": "148357ad",
   "metadata": {},
   "outputs": [],
   "source": [
    "#  Use the function 'how_far()' to find the distance between two cities from the list."
   ]
  },
  {
   "cell_type": "code",
   "execution_count": 207,
   "id": "7450093d",
   "metadata": {},
   "outputs": [
    {
     "name": "stdout",
     "output_type": "stream",
     "text": [
      "Oaxaca San Miguel de Allende 615.4825169680835\n"
     ]
    }
   ],
   "source": [
    "print(city_names[0], city_names[1], how_far(city_names[0],city_names[1]))"
   ]
  },
  {
   "cell_type": "code",
   "execution_count": 208,
   "id": "5c6ee983",
   "metadata": {},
   "outputs": [],
   "source": [
    "#  looked at how lists can be used \n",
    "#  applied some techniques using the attributes of the list to organize some information \n",
    "#  used that information to make some calculations"
   ]
  },
  {
   "cell_type": "code",
   "execution_count": 209,
   "id": "96f3c84c",
   "metadata": {},
   "outputs": [
    {
     "data": {
      "text/plain": [
       "False"
      ]
     },
     "execution_count": 209,
     "metadata": {},
     "output_type": "execute_result"
    }
   ],
   "source": [
    "#  need to convert from degrees to radians \n",
    "lat_radians = []\n",
    "for each in lat:\n",
    "    lat_radians.append(each * np.pi / 180)\n",
    "lat_radians\n",
    "\n",
    "longi_radians = []\n",
    "for each in longi:\n",
    "    longi_radians.append(each * np.pi / 180)\n",
    "longi_radians\n",
    "\n",
    "(lat[3], longi[3]) == (lat_radians[3], longi_radians[3])\n"
   ]
  },
  {
   "cell_type": "code",
   "execution_count": 210,
   "id": "79b01f71",
   "metadata": {},
   "outputs": [],
   "source": [
    "import math\n",
    "    \n",
    "import numpy as np    \n",
    "\n",
    "def haversine_distance(x1, y1, x2, y2):\n",
    "    x1 = float(x1)\n",
    "    x2 = float(x2)\n",
    "    y1 = float(y1)\n",
    "    y2 = float(y2)\n",
    "    \n",
    "    a =(math.sin((x2 - x1)/ 2))**2 + math.cos(x1)*math.cos(x2)*(math.sin((y2 - y1)/2))**2\n",
    "   \n",
    "    c = 2*(np.arctan2(a**0.5,(1-a)**0.5))\n",
    "    \n",
    "    R = 6.371 * 10 ** 3\n",
    "#     earths mean radius in kilometres\n",
    "\n",
    "    return R * c\n",
    "\n",
    "    \n",
    "def how_far_hav(city_1, city_2):\n",
    "    first = city_names.index(city_1)\n",
    "    second = city_names.index(city_2)\n",
    "#     x1 = cities_list[first][2]\n",
    "#     y1 = cities_list[first][3]\n",
    "#     x2 = cities_list[second][2]\n",
    "#     y2 = cities_list[second][3]\n",
    "    x1 = lat_radians[first]\n",
    "    y1 = longi_radians[first]\n",
    "    x2 = lat_radians[second]\n",
    "    y2 = longi_radians[second]\n",
    "    \n",
    "    return haversine_distance(x1, y1, x2, y2)\n",
    "\n"
   ]
  },
  {
   "cell_type": "code",
   "execution_count": 211,
   "id": "5f098c64",
   "metadata": {},
   "outputs": [
    {
     "data": {
      "text/plain": [
       "599.7048064572577"
      ]
     },
     "execution_count": 211,
     "metadata": {},
     "output_type": "execute_result"
    }
   ],
   "source": [
    "how_far_hav(city_names[0], city_names[1])"
   ]
  },
  {
   "cell_type": "code",
   "execution_count": 212,
   "id": "691f4a7c",
   "metadata": {},
   "outputs": [
    {
     "data": {
      "text/plain": [
       "False"
      ]
     },
     "execution_count": 212,
     "metadata": {},
     "output_type": "execute_result"
    }
   ],
   "source": [
    "(float(cities_list[3][2]), float(cities_list[3][3])) == (lat_radians[3], longi_radians[3])"
   ]
  },
  {
   "cell_type": "code",
   "execution_count": 213,
   "id": "5e7a0d71",
   "metadata": {},
   "outputs": [
    {
     "data": {
      "text/plain": [
       "True"
      ]
     },
     "execution_count": 213,
     "metadata": {},
     "output_type": "execute_result"
    }
   ],
   "source": [
    "(float(cities_list[3][2])* np.pi / 180, float(cities_list[3][3])* np.pi / 180) == (lat_radians[3], longi_radians[3])"
   ]
  },
  {
   "cell_type": "code",
   "execution_count": 214,
   "id": "a0a6c44c",
   "metadata": {},
   "outputs": [
    {
     "data": {
      "text/plain": [
       "-15.777710510825727"
      ]
     },
     "execution_count": 214,
     "metadata": {},
     "output_type": "execute_result"
    }
   ],
   "source": [
    "diff_btw_hav_distance = how_far_hav(city_names[0], city_names[1]) - how_far(city_names[0],city_names[1])\n",
    "diff_btw_hav_distance "
   ]
  },
  {
   "cell_type": "code",
   "execution_count": 215,
   "id": "7b9f31e4",
   "metadata": {},
   "outputs": [
    {
     "data": {
      "text/plain": [
       "['Oaxaca', 'Mexico', '17.021886', '-96.784615']"
      ]
     },
     "execution_count": 215,
     "metadata": {},
     "output_type": "execute_result"
    }
   ],
   "source": [
    "cities_list[0]"
   ]
  },
  {
   "cell_type": "code",
   "execution_count": 216,
   "id": "589f9618",
   "metadata": {},
   "outputs": [
    {
     "data": {
      "text/plain": [
       "['San Miguel de Allende', 'Mexico', '20.910399', '-100.737493']"
      ]
     },
     "execution_count": 216,
     "metadata": {},
     "output_type": "execute_result"
    }
   ],
   "source": [
    "cities_list[1]"
   ]
  },
  {
   "cell_type": "code",
   "execution_count": null,
   "id": "d7fce3cf",
   "metadata": {},
   "outputs": [],
   "source": []
  },
  {
   "cell_type": "code",
   "execution_count": null,
   "id": "9b17eb8d",
   "metadata": {},
   "outputs": [],
   "source": []
  }
 ],
 "metadata": {
  "kernelspec": {
   "display_name": "Python 3",
   "language": "python",
   "name": "python3"
  },
  "language_info": {
   "codemirror_mode": {
    "name": "ipython",
    "version": 3
   },
   "file_extension": ".py",
   "mimetype": "text/x-python",
   "name": "python",
   "nbconvert_exporter": "python",
   "pygments_lexer": "ipython3",
   "version": "3.8.8"
  }
 },
 "nbformat": 4,
 "nbformat_minor": 5
}
