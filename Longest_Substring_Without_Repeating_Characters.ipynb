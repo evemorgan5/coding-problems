{
 "cells": [
  {
   "cell_type": "code",
   "execution_count": 26,
   "id": "4b5e7a1b",
   "metadata": {},
   "outputs": [
    {
     "name": "stdout",
     "output_type": "stream",
     "text": [
      "['a', 'b', 'c', 'a', 'b', 'c']\n"
     ]
    }
   ],
   "source": [
    "s = \"abcabcbb\"\n",
    "8\n",
    "3\n",
    "# The answer is \"abc\", with the length of 3.\n",
    "list_s = list(s)\n",
    "\n",
    "sub = []\n",
    "\n",
    "# print(list(s))\n",
    "\n",
    "for i in range(len(list_s)-1):\n",
    "    if s[i] != s[i+1]:\n",
    "        sub.append(s[i]) \n",
    "   \n",
    "        \n",
    "print(sub)"
   ]
  },
  {
   "cell_type": "code",
   "execution_count": 27,
   "id": "eedbf6f8",
   "metadata": {},
   "outputs": [
    {
     "name": "stdout",
     "output_type": "stream",
     "text": [
      "[5]\n",
      "[2, 3]\n",
      "2\n"
     ]
    }
   ],
   "source": [
    "nums = [1,2,3,4,5,6]\n",
    "subb = []\n",
    "k = 5 \n",
    "\n",
    "subc = []\n",
    "\n",
    "for i in range(1,len(nums)):\n",
    "    for j in range(len(nums)):\n",
    "        if j < (len(nums) - (i - 1)):\n",
    "            subb.append(nums[j: j+ i])\n",
    "    \n",
    "    \n",
    "for x in subb:\n",
    "    if sum(x) == k:\n",
    "        subc.append(1)\n",
    "        print(x)\n",
    "        \n",
    "print(sum(subc))     \n"
   ]
  },
  {
   "cell_type": "code",
   "execution_count": 28,
   "id": "6d81080a",
   "metadata": {},
   "outputs": [
    {
     "ename": "SyntaxError",
     "evalue": "invalid syntax (<ipython-input-28-73819f3e9e5b>, line 12)",
     "output_type": "error",
     "traceback": [
      "\u001b[0;36m  File \u001b[0;32m\"<ipython-input-28-73819f3e9e5b>\"\u001b[0;36m, line \u001b[0;32m12\u001b[0m\n\u001b[0;31m    if l_s[j] = l_s[len(l_s) - (i - 1)]:\u001b[0m\n\u001b[0m              ^\u001b[0m\n\u001b[0;31mSyntaxError\u001b[0m\u001b[0;31m:\u001b[0m invalid syntax\n"
     ]
    }
   ],
   "source": [
    "s = \"abcabcbb\"\n",
    "8\n",
    "0-7\n",
    "l_s = list(s)\n",
    "\n",
    "subb = []\n",
    "\n",
    "subc = []\n",
    "\n",
    "for i in range(1,len(l_s)):\n",
    "    for j in range(len(l_s)):\n",
    "        if l_s[j] = l_s[len(l_s) - (i - 1)]:\n",
    "            subb.append(l_s[j: j+ i])\n",
    "    \n",
    "    \n",
    "for x in subb:\n",
    "    if sum(x) == k:\n",
    "        subc.append(l_s[x])\n",
    "        print(x)\n",
    "        \n",
    "print(sum(subc))     \n"
   ]
  },
  {
   "cell_type": "code",
   "execution_count": 93,
   "id": "3a25e4dc",
   "metadata": {},
   "outputs": [
    {
     "name": "stdout",
     "output_type": "stream",
     "text": [
      "[['a', 'b'], ['b', 'c'], ['c', 'd'], ['d', 'e'], ['e', 'c'], ['c', 'b'], ['a', 'b', 'c'], ['b', 'c', 'd'], ['c', 'd', 'e'], ['d', 'e', 'c'], ['e', 'c', 'b'], ['a', 'b', 'c', 'd'], ['b', 'c', 'd', 'e'], ['d', 'e', 'c', 'b'], ['a', 'b', 'c', 'd', 'e']]\n",
      "[2, 2, 2, 2, 2, 2, 3, 3, 3, 3, 3, 4, 4, 4, 5]\n",
      "['a', 'b', 'c', 'd', 'e']\n",
      "['a', 'b', 'c', 'd', 'e']\n",
      "5 abcde\n"
     ]
    }
   ],
   "source": [
    "s = \"abcdecbb\"\n",
    "\n",
    "l_letters = list(s)\n",
    "\n",
    "list_of_all_types_lists = []\n",
    "\n",
    "for i in range(2,len(l_letters)):\n",
    "    for j in range(len(l_letters)):\n",
    "        if j < (len(l_letters) - (i - 1)):\n",
    "            list_of_all_types_lists.append(l_letters[j: j+ i])\n",
    "    \n",
    "\n",
    "sublists_no_dupes = []\n",
    "for sublist in list_of_all_types_lists:\n",
    "    if len(sublist) == len(set(sublist)):\n",
    "        sublists_no_dupes.append(sublist)\n",
    "\n",
    "print(sublists_no_dupes)\n",
    "\n",
    "# longest_list = max(len(elem) for elem in sublists_no_dupes)\n",
    "# print(longest_list)\n",
    "\n",
    "longest_length_list = []\n",
    "for elem in sublists_no_dupes:\n",
    "    longest_length_list.append(len(elem))\n",
    "print(longest_length_list)\n",
    "\n",
    "\n",
    "longest_str = []\n",
    "for elem in sublists_no_dupes:\n",
    "    if len(elem) == max(longest_length_list):\n",
    "        print(elem)\n",
    "        longest_str.append(elem) \n",
    "print(longest_str[0])\n",
    "\n",
    "longest_str1 = ''.join(longest_str[0])\n",
    "print(max(longest_length_list), str1)\n"
   ]
  },
  {
   "cell_type": "code",
   "execution_count": null,
   "id": "4bcbbb05",
   "metadata": {},
   "outputs": [],
   "source": [
    "\n",
    "    "
   ]
  },
  {
   "cell_type": "code",
   "execution_count": null,
   "id": "5b7f723e",
   "metadata": {},
   "outputs": [],
   "source": []
  }
 ],
 "metadata": {
  "kernelspec": {
   "display_name": "Python 3",
   "language": "python",
   "name": "python3"
  },
  "language_info": {
   "codemirror_mode": {
    "name": "ipython",
    "version": 3
   },
   "file_extension": ".py",
   "mimetype": "text/x-python",
   "name": "python",
   "nbconvert_exporter": "python",
   "pygments_lexer": "ipython3",
   "version": "3.8.8"
  }
 },
 "nbformat": 4,
 "nbformat_minor": 5
}
