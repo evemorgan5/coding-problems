{
 "cells": [
  {
   "cell_type": "code",
   "execution_count": 17,
   "id": "c9e57b57",
   "metadata": {},
   "outputs": [
    {
     "data": {
      "text/plain": [
       "'dc'"
      ]
     },
     "execution_count": 17,
     "metadata": {},
     "output_type": "execute_result"
    }
   ],
   "source": [
    "a = \"cde\"\n",
    "b = \"dcf\"\n",
    "a.replace(\"e\", \"\")\n",
    "b.replace(\"f\", \"\")"
   ]
  },
  {
   "cell_type": "code",
   "execution_count": 30,
   "id": "abd13026",
   "metadata": {},
   "outputs": [],
   "source": [
    "def abs(x):\n",
    "    if x < 0:\n",
    "        return -1 * x\n",
    "    else:\n",
    "        return x"
   ]
  },
  {
   "cell_type": "code",
   "execution_count": 29,
   "id": "1254b644",
   "metadata": {},
   "outputs": [
    {
     "name": "stdout",
     "output_type": "stream",
     "text": [
      "{'c': 1, 'd': 1, 'e': 1, 'f': 0}\n",
      "{'d': 1, 'c': 1, 'f': 1, 'e': 0}\n"
     ]
    }
   ],
   "source": [
    "a = \"cde\"\n",
    "b = \"dcf\"\n",
    "\n",
    "\n",
    "list(a)\n",
    "list(b)\n",
    "\n",
    "result = []\n",
    "count = 0\n",
    "\n",
    "ad = {}\n",
    "bd = {}\n",
    "for x in a:\n",
    "    if x in ad:\n",
    "        ad[x] += 1\n",
    "    else:\n",
    "        ad[x] = 1\n",
    "        \n",
    "for x in b:\n",
    "    if x in bd:\n",
    "        bd[x] += 1\n",
    "    else:\n",
    "        bd[x] = 1\n",
    "\n",
    "\n",
    "for x in ad:\n",
    "    if x not in bd:\n",
    "        bd[x] = 0\n",
    "\n",
    "for x in bd:\n",
    "    if x not in ad:\n",
    "        ad[x] = 0\n",
    "\n",
    "for x in ad:\n",
    "    c\n",
    "    \n",
    "print(ad)\n",
    "print(bd)"
   ]
  },
  {
   "cell_type": "code",
   "execution_count": null,
   "id": "060d7e5c",
   "metadata": {},
   "outputs": [],
   "source": []
  }
 ],
 "metadata": {
  "kernelspec": {
   "display_name": "Python 3",
   "language": "python",
   "name": "python3"
  },
  "language_info": {
   "codemirror_mode": {
    "name": "ipython",
    "version": 3
   },
   "file_extension": ".py",
   "mimetype": "text/x-python",
   "name": "python",
   "nbconvert_exporter": "python",
   "pygments_lexer": "ipython3",
   "version": "3.8.8"
  }
 },
 "nbformat": 4,
 "nbformat_minor": 5
}
