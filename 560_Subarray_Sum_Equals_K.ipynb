{
 "cells": [
  {
   "cell_type": "code",
   "execution_count": 1,
   "id": "615c990d",
   "metadata": {},
   "outputs": [
    {
     "data": {
      "text/plain": [
       "2"
      ]
     },
     "execution_count": 1,
     "metadata": {},
     "output_type": "execute_result"
    }
   ],
   "source": [
    "nums = [1,1,1]\n",
    "k = 2\n",
    "\n",
    "ways = []\n",
    "for x in range(2):\n",
    "    if nums[x]+nums[x+1] == k:\n",
    "        ways.append(1)\n",
    "sum(ways)\n"
   ]
  },
  {
   "cell_type": "code",
   "execution_count": 2,
   "id": "a2b22a6f",
   "metadata": {},
   "outputs": [
    {
     "ename": "IndentationError",
     "evalue": "expected an indented block (<ipython-input-2-987d7556156f>, line 12)",
     "output_type": "error",
     "traceback": [
      "\u001b[0;36m  File \u001b[0;32m\"<ipython-input-2-987d7556156f>\"\u001b[0;36m, line \u001b[0;32m12\u001b[0m\n\u001b[0;31m    sum(ways)\u001b[0m\n\u001b[0m             ^\u001b[0m\n\u001b[0;31mIndentationError\u001b[0m\u001b[0;31m:\u001b[0m expected an indented block\n"
     ]
    }
   ],
   "source": [
    "nums = [1,2,3]\n",
    "k = 3\n",
    "\n",
    "ways = []\n",
    "for x in range(3):\n",
    "    if nums[x] == k:\n",
    "        ways.append(1)\n",
    "    elif nums[x] + nums[x+1] == k:\n",
    "        ways.append(1) \n",
    "    elif nums[x]+ nums[x+1] + nums[x+2] == k:\n",
    "        \n",
    "sum(ways)\n"
   ]
  },
  {
   "cell_type": "code",
   "execution_count": 9,
   "id": "c397c0cc",
   "metadata": {},
   "outputs": [
    {
     "name": "stdout",
     "output_type": "stream",
     "text": [
      "0\n",
      "[[1, 2]]\n",
      "1\n",
      "[[1, 2], [2, 3]]\n",
      "2\n",
      "[[1, 2], [2, 3], [3, 4]]\n",
      "3\n",
      "[[1, 2], [2, 3], [3, 4], [4, 5]]\n",
      "4\n",
      "[[1, 2], [2, 3], [3, 4], [4, 5], [5, 6]]\n",
      "5\n"
     ]
    },
    {
     "data": {
      "text/plain": [
       "[[1, 2], [2, 3], [3, 4], [4, 5], [5, 6]]"
      ]
     },
     "execution_count": 9,
     "metadata": {},
     "output_type": "execute_result"
    }
   ],
   "source": [
    "nums = [1,2,3,4,5,6]\n",
    "\n",
    "\n",
    "subb = []\n",
    "\n",
    "\n",
    "for x in range(len(nums)):\n",
    "    print(x)\n",
    "    if x < len(nums) -1 :\n",
    "        subb.append([nums[x], nums[x+1]])\n",
    "        print(subb)\n",
    "    \n",
    "subb"
   ]
  },
  {
   "cell_type": "code",
   "execution_count": 29,
   "id": "237c7c94",
   "metadata": {},
   "outputs": [
    {
     "data": {
      "text/plain": [
       "[[1, 2, 3, 4, 5, 6]]"
      ]
     },
     "execution_count": 29,
     "metadata": {},
     "output_type": "execute_result"
    }
   ],
   "source": [
    "nums = [1,2,3,4,5,6]\n",
    "subb = []\n",
    "\n",
    "i = 6\n",
    "\n",
    "for j in range(len(nums)):\n",
    "\n",
    "    if j < (len(nums) - (i - 1)):\n",
    "        subb.append(nums[j: j+ i])\n",
    "    \n",
    "    \n",
    "subb"
   ]
  },
  {
   "cell_type": "code",
   "execution_count": 27,
   "id": "d939bfae",
   "metadata": {},
   "outputs": [
    {
     "name": "stdout",
     "output_type": "stream",
     "text": [
      "[5]\n",
      "[2, 3]\n",
      "2\n"
     ]
    }
   ],
   "source": [
    "nums = [1,2,3,4,5,6]\n",
    "subb = []\n",
    "k = 5 \n",
    "\n",
    "subc = []\n",
    "\n",
    "for i in range(1,len(nums)):\n",
    "    for j in range(len(nums)):\n",
    "        if j < (len(nums) - (i - 1)):\n",
    "            subb.append(nums[j: j+ i])\n",
    "    \n",
    "    \n",
    "for x in subb:\n",
    "    if sum(x) == k:\n",
    "        subc.append(1)\n",
    "        print(x)\n",
    "        \n",
    "print(sum(subc))        "
   ]
  },
  {
   "cell_type": "code",
   "execution_count": null,
   "id": "99a7dc83",
   "metadata": {},
   "outputs": [],
   "source": []
  }
 ],
 "metadata": {
  "kernelspec": {
   "display_name": "Python 3",
   "language": "python",
   "name": "python3"
  },
  "language_info": {
   "codemirror_mode": {
    "name": "ipython",
    "version": 3
   },
   "file_extension": ".py",
   "mimetype": "text/x-python",
   "name": "python",
   "nbconvert_exporter": "python",
   "pygments_lexer": "ipython3",
   "version": "3.8.8"
  }
 },
 "nbformat": 4,
 "nbformat_minor": 5
}
