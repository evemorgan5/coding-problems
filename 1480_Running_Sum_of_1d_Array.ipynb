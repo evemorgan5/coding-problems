{
 "cells": [
  {
   "cell_type": "code",
   "execution_count": 10,
   "id": "4894cab0",
   "metadata": {},
   "outputs": [
    {
     "data": {
      "text/plain": [
       "[1, 3, 6, 10, 15, 21]"
      ]
     },
     "execution_count": 10,
     "metadata": {},
     "output_type": "execute_result"
    }
   ],
   "source": [
    "# Input: nums = [1,2,3,4]\n",
    "# Output: [1,3,6,10]\n",
    "# Explanation: Running sum is obtained as follows: [1, 1+2, 1+2+3, 1+2+3+4].\n",
    "\n",
    "\n",
    "nums = [1,2,3,4,5,6]\n",
    "\n",
    "temp = [0]\n",
    "\n",
    "result = []\n",
    "\n",
    "for elem in nums:\n",
    "#     print(elem)\n",
    "    temp.append(elem)\n",
    "#     print(temp)\n",
    "    result.append(sum(temp))\n",
    "#     print(result)\n",
    "    \n",
    "result"
   ]
  },
  {
   "cell_type": "code",
   "execution_count": null,
   "id": "5dce5f4d",
   "metadata": {},
   "outputs": [],
   "source": []
  }
 ],
 "metadata": {
  "kernelspec": {
   "display_name": "Python 3",
   "language": "python",
   "name": "python3"
  },
  "language_info": {
   "codemirror_mode": {
    "name": "ipython",
    "version": 3
   },
   "file_extension": ".py",
   "mimetype": "text/x-python",
   "name": "python",
   "nbconvert_exporter": "python",
   "pygments_lexer": "ipython3",
   "version": "3.8.8"
  }
 },
 "nbformat": 4,
 "nbformat_minor": 5
}
