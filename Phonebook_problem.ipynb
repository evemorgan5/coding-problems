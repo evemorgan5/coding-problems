{
 "cells": [
  {
   "cell_type": "code",
   "execution_count": 44,
   "id": "75077e9e",
   "metadata": {},
   "outputs": [
    {
     "name": "stdout",
     "output_type": "stream",
     "text": [
      "{'key1': [1, 2], 'key2': ['Geeks', 'For', 'Geeks']}\n",
      "Eve\n",
      "4157107805\n",
      "Harry\n",
      "4153165601\n"
     ]
    },
    {
     "data": {
      "text/plain": [
       "{'Name': ['Eve', 'Harry'], 'Phone_num': [4157107805, 4153165601]}"
      ]
     },
     "execution_count": 44,
     "metadata": {},
     "output_type": "execute_result"
    }
   ],
   "source": [
    "# dict of lists\n",
    "myDict = {}\n",
    "myDict[\"key1\"] = [1, 2]\n",
    "myDict[\"key2\"] = [\"Geeks\", \"For\", \"Geeks\"] \n",
    "  \n",
    "print(myDict)\n",
    "\n",
    "\n",
    "phone_book = {}\n",
    "phone_book[\"Name\"] = [\"Eve\",\"Harry\"]\n",
    "phone_book[\"Phone_num\"] = [4157107805,4153165601]\n",
    "# phone_book = {\"Name\":[\"Eve\",\"Harry\"], \"Phone_num\":[4157107805,4153165601]}\n",
    "\n",
    "\n",
    "\n",
    "\n",
    "\n",
    "\n",
    "for each in range(len(phone_book[key])):\n",
    "    for key in phone_book:\n",
    "        print(phone_book[key][each])\n",
    "        \n",
    "   \n",
    "# for each in range(len(phone_book[each])):\n",
    "#     print(phone_book[\"Name\"[each],\"Phone_num\"[each]])\n",
    "# #     for each in len(phone_book[key]):\n",
    "#         print(phone_book[key][each])\n",
    "\n",
    "\n",
    "phone_book"
   ]
  },
  {
   "cell_type": "code",
   "execution_count": 41,
   "id": "62be715d",
   "metadata": {},
   "outputs": [
    {
     "data": {
      "text/plain": [
       "[{'Name': 'Eve', 'Phone_num': 4157107805},\n",
       " {'Name': 'Harry', 'Phone_num': 4153165601}]"
      ]
     },
     "execution_count": 41,
     "metadata": {},
     "output_type": "execute_result"
    }
   ],
   "source": [
    "alt_phone_book = [{\"Name\":\"Eve\",\"Phone_num\":4157107805},{\"Name\":\"Harry\",\"Phone_num\":4153165601}]\n",
    "\n",
    "# list of dicts \n",
    "\n",
    "\n",
    "alt_phone_book"
   ]
  },
  {
   "cell_type": "code",
   "execution_count": null,
   "id": "75a1eb2e",
   "metadata": {},
   "outputs": [],
   "source": []
  },
  {
   "cell_type": "code",
   "execution_count": null,
   "id": "9a6edc57",
   "metadata": {},
   "outputs": [],
   "source": []
  }
 ],
 "metadata": {
  "kernelspec": {
   "display_name": "Python 3",
   "language": "python",
   "name": "python3"
  },
  "language_info": {
   "codemirror_mode": {
    "name": "ipython",
    "version": 3
   },
   "file_extension": ".py",
   "mimetype": "text/x-python",
   "name": "python",
   "nbconvert_exporter": "python",
   "pygments_lexer": "ipython3",
   "version": "3.8.8"
  }
 },
 "nbformat": 4,
 "nbformat_minor": 5
}
