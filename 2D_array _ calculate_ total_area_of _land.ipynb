{
 "cells": [
  {
   "cell_type": "code",
   "execution_count": 11,
   "id": "b0802165",
   "metadata": {},
   "outputs": [
    {
     "data": {
      "text/plain": [
       "8"
      ]
     },
     "execution_count": 11,
     "metadata": {},
     "output_type": "execute_result"
    }
   ],
   "source": [
    "# Given a 2D array of characters marking land ('l') and water ('w') \n",
    "# calculate the total area of land\n",
    "\n",
    "# 2D arrary = list of lists \n",
    "\n",
    "matrix = [[\"l\",\"l\",\"l\",\"w\",\"w\"],[\"w\",\"l\",\"l\",\"l\"],[\"w\",\"w\",\"w\",\"l\",\"l\"]]\n",
    "\n",
    "no_l = 0\n",
    "\n",
    "for row in matrix:\n",
    "    for elem in row:\n",
    "        if elem == \"l\":\n",
    "            no_l += 1\n",
    "no_l"
   ]
  },
  {
   "cell_type": "code",
   "execution_count": null,
   "id": "a8f88a07",
   "metadata": {},
   "outputs": [],
   "source": []
  }
 ],
 "metadata": {
  "kernelspec": {
   "display_name": "Python 3",
   "language": "python",
   "name": "python3"
  },
  "language_info": {
   "codemirror_mode": {
    "name": "ipython",
    "version": 3
   },
   "file_extension": ".py",
   "mimetype": "text/x-python",
   "name": "python",
   "nbconvert_exporter": "python",
   "pygments_lexer": "ipython3",
   "version": "3.8.8"
  }
 },
 "nbformat": 4,
 "nbformat_minor": 5
}
