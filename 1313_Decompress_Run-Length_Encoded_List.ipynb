{
 "cells": [
  {
   "cell_type": "code",
   "execution_count": 9,
   "id": "59aace61",
   "metadata": {},
   "outputs": [
    {
     "data": {
      "text/plain": [
       "[[1, 2], [2, 3], [3, 4]]"
      ]
     },
     "execution_count": 9,
     "metadata": {},
     "output_type": "execute_result"
    }
   ],
   "source": [
    "# Input: nums = [1,2,3,4]\n",
    "# Output: [2,4,4,4]\n",
    "# Explanation: The first pair [1,2] means we have freq = 1 and val = 2 so we generate the array [2].\n",
    "# The second pair [3,4] means we have freq = 3 and val = 4 so we generate [4,4,4].\n",
    "# At the end the concatenation [2] + [4,4,4] is [2,4,4,4].\n",
    "\n",
    "nums = [1,2,3,4]\n",
    "pairs = []\n",
    "for i in range(len(nums)-1):\n",
    "    pairs.append(nums[i:i + 2])\n",
    "\n",
    "pairs\n",
    "\n",
    "# new_list = []\n",
    "# for last_nu in pairs: \n",
    "    \n",
    "#     new_list = pair[0] *pair[1]\n",
    "    \n",
    "# new_list\n",
    "\n",
    "\n",
    "# [freq, val] = [nums[2*i], nums[2*i+1]] (with i >= 0). \n"
   ]
  },
  {
   "cell_type": "code",
   "execution_count": 10,
   "id": "d1d5d6f9",
   "metadata": {},
   "outputs": [
    {
     "ename": "SyntaxError",
     "evalue": "unexpected EOF while parsing (<ipython-input-10-e2a2ea770384>, line 12)",
     "output_type": "error",
     "traceback": [
      "\u001b[0;36m  File \u001b[0;32m\"<ipython-input-10-e2a2ea770384>\"\u001b[0;36m, line \u001b[0;32m12\u001b[0m\n\u001b[0;31m    \u001b[0m\n\u001b[0m    ^\u001b[0m\n\u001b[0;31mSyntaxError\u001b[0m\u001b[0;31m:\u001b[0m unexpected EOF while parsing\n"
     ]
    }
   ],
   "source": [
    "nums = [1,2,3,4]\n",
    "pairs = []\n",
    "for i in range(len(nums)-1):\n",
    "    pairs.append(nums[i:i + 2])\n",
    "\n",
    "for pair in pairs:\n",
    "    freq = pair[0]\n",
    "    val = pair[1]\n",
    "\n",
    "result = [freq * val \n",
    "          \n",
    "          "
   ]
  },
  {
   "cell_type": "code",
   "execution_count": 60,
   "id": "66f1a44f",
   "metadata": {},
   "outputs": [
    {
     "data": {
      "text/plain": [
       "[2, 4, 4, 4, 2]"
      ]
     },
     "execution_count": 60,
     "metadata": {},
     "output_type": "execute_result"
    }
   ],
   "source": [
    "nums = [1,2,3,4,1,2]\n",
    "# nums = [1,1,2,3]\n",
    "\n",
    "\n",
    "def gen_pairs(pairs_list):\n",
    "    pairs = []\n",
    "    for i in range(len(pairs_list)//2):\n",
    "\n",
    "        pairs.append(pairs_list[i*2 : i*2 + 2])\n",
    "    return pairs\n",
    "\n",
    "\n",
    "\n",
    "def decompress_pair(pair):\n",
    "    freq = pair[0]\n",
    "    value = pair[1] \n",
    "    ls = []\n",
    "    for i in range(freq):\n",
    "        ls.append(value)\n",
    "    return ls \n",
    "# or alternative faster approach \n",
    "#  return [pair[1]] * pair[0]\n",
    "\n",
    "\n",
    "pairs = gen_pairs(nums)\n",
    "\n",
    "decompress_pair_list_of_lists = []\n",
    "for each_pair in pairs:\n",
    "    decompress_pair_list_of_lists.append(decompress_pair(each_pair))\n",
    "    \n",
    "decompress_pair_list = []\n",
    "for sublist in decompress_pair_list_of_lists:\n",
    "    for item in sublist:\n",
    "        decompress_pair_list.append(item)\n",
    "decompress_pair_list\n",
    "\n",
    "\n"
   ]
  },
  {
   "cell_type": "code",
   "execution_count": null,
   "id": "58bb4988",
   "metadata": {},
   "outputs": [],
   "source": []
  },
  {
   "cell_type": "code",
   "execution_count": null,
   "id": "61afcb3c",
   "metadata": {},
   "outputs": [],
   "source": []
  }
 ],
 "metadata": {
  "kernelspec": {
   "display_name": "Python 3",
   "language": "python",
   "name": "python3"
  },
  "language_info": {
   "codemirror_mode": {
    "name": "ipython",
    "version": 3
   },
   "file_extension": ".py",
   "mimetype": "text/x-python",
   "name": "python",
   "nbconvert_exporter": "python",
   "pygments_lexer": "ipython3",
   "version": "3.8.8"
  }
 },
 "nbformat": 4,
 "nbformat_minor": 5
}
