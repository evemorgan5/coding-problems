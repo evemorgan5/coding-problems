{
 "cells": [
  {
   "cell_type": "code",
   "execution_count": 8,
   "id": "169da5d0",
   "metadata": {},
   "outputs": [],
   "source": [
    "# https://leetcode.com/problems/sum-of-even-numbers-after-queries/"
   ]
  },
  {
   "cell_type": "code",
   "execution_count": null,
   "id": "3aaef4e0",
   "metadata": {},
   "outputs": [],
   "source": []
  },
  {
   "cell_type": "code",
   "execution_count": 9,
   "id": "fc22fcdf",
   "metadata": {},
   "outputs": [
    {
     "name": "stdout",
     "output_type": "stream",
     "text": [
      "[2, 2, 3, 4]\n",
      "[2, -1, 3, 4]\n",
      "[-2, -1, 3, 4]\n",
      "[-2, -1, 3, 6]\n"
     ]
    },
    {
     "data": {
      "text/plain": [
       "[8, 6, 2, 4]"
      ]
     },
     "execution_count": 9,
     "metadata": {},
     "output_type": "execute_result"
    }
   ],
   "source": [
    "nums = [1,2,3,4]\n",
    "queries = [[1,0],[-3,1],[-4,0],[2,3]]\n",
    "new_nums = nums\n",
    "fn = []\n",
    "\n",
    "\n",
    "\n",
    "for x in range(4):\n",
    "  \n",
    "    new_nums[queries[x][1]] = nums[queries[x][1]] + queries[x][0]\n",
    "    evens = []\n",
    "    print(new_nums)\n",
    "    for x in new_nums:\n",
    "        if x % 2 == 0:\n",
    "            evens.append(x)\n",
    "    fn.append(sum(evens))\n",
    "                   \n",
    "fn   \n",
    "    "
   ]
  },
  {
   "cell_type": "code",
   "execution_count": null,
   "id": "334866af",
   "metadata": {},
   "outputs": [],
   "source": []
  }
 ],
 "metadata": {
  "kernelspec": {
   "display_name": "Python 3",
   "language": "python",
   "name": "python3"
  },
  "language_info": {
   "codemirror_mode": {
    "name": "ipython",
    "version": 3
   },
   "file_extension": ".py",
   "mimetype": "text/x-python",
   "name": "python",
   "nbconvert_exporter": "python",
   "pygments_lexer": "ipython3",
   "version": "3.8.8"
  }
 },
 "nbformat": 4,
 "nbformat_minor": 5
}
