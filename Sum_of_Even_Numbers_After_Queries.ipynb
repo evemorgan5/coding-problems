{
 "cells": [
  {
   "cell_type": "code",
   "execution_count": 8,
   "id": "98225629",
   "metadata": {},
   "outputs": [],
   "source": [
    "# https://leetcode.com/problems/sum-of-even-numbers-after-queries/"
   ]
  },
  {
   "cell_type": "code",
   "execution_count": 12,
   "id": "0339055c",
   "metadata": {},
   "outputs": [
    {
     "name": "stdout",
     "output_type": "stream",
     "text": [
      "[2, 2, 3, 4]\n",
      "[2, -1, 3, 4]\n",
      "[-2, -1, 3, 4]\n",
      "[-2, -1, 3, 6]\n"
     ]
    },
    {
     "data": {
      "text/plain": [
       "[8, 6, 2, 4]"
      ]
     },
     "execution_count": 12,
     "metadata": {},
     "output_type": "execute_result"
    }
   ],
   "source": [
    "nums = [1,2,3,4]\n",
    "queries = [[1,0],[-3,1],[-4,0],[2,3]]\n",
    "new_nums = nums\n",
    "fn = []\n",
    "\n",
    "\n",
    "\n",
    "for x in range(4):\n",
    "  \n",
    "    new_nums[queries[x][1]] = nums[queries[x][1]] + queries[x][0]\n",
    "    evens = []\n",
    "    print(new_nums)\n",
    "    for x in new_nums:\n",
    "        if x % 2 == 0:\n",
    "            evens.append(x)\n",
    "    fn.append(sum(evens))\n",
    "                   \n",
    "fn   "
   ]
  },
  {
   "cell_type": "code",
   "execution_count": 13,
   "id": "427c38bd",
   "metadata": {},
   "outputs": [
    {
     "name": "stdout",
     "output_type": "stream",
     "text": [
      "[2, 2, 3, 4]\n",
      "[2, -1, 3, 4]\n",
      "[-2, -1, 3, 4]\n",
      "[-2, -1, 3, 6]\n"
     ]
    },
    {
     "data": {
      "text/plain": [
       "[8, 6, 2, 4]"
      ]
     },
     "execution_count": 13,
     "metadata": {},
     "output_type": "execute_result"
    }
   ],
   "source": [
    "nums = [1,2,3,4]\n",
    "queries = [[1,0],[-3,1],[-4,0],[2,3]]\n",
    "\n",
    "\n",
    "fn = []\n",
    "\n",
    "for x in range(len(queries)):\n",
    "    nums[queries[x][1]] = nums[queries[x][1]] + queries[x][0]\n",
    "    evens = []\n",
    "    print(nums)\n",
    "    for x in nums:\n",
    "        if x % 2 == 0:\n",
    "            evens.append(x)    \n",
    "    fn.append(sum(evens))\n",
    "                   \n",
    "fn   \n",
    "    "
   ]
  },
  {
   "cell_type": "code",
   "execution_count": 11,
   "id": "7d92a2b4",
   "metadata": {},
   "outputs": [
    {
     "name": "stdout",
     "output_type": "stream",
     "text": [
      "[8, 6, 2, 4]\n"
     ]
    }
   ],
   "source": [
    "nums = [1, 2, 3, 4]\n",
    "queries = [[1, 0], [-3, 1], [-4, 0], [2, 3]]\n",
    "\n",
    "fn = []\n",
    "\n",
    "for i in range(len(queries)):\n",
    "    nums[queries[i][1]] += queries[i][0]\n",
    "    even_sum = sum([j for j in nums if j % 2 == 0])\n",
    "    fn.append(even_sum)\n",
    "print(fn)"
   ]
  },
  {
   "cell_type": "code",
   "execution_count": 20,
   "id": "68b11047",
   "metadata": {},
   "outputs": [
    {
     "name": "stdout",
     "output_type": "stream",
     "text": [
      "[2, 2, 3, 4]\n",
      "[2, -1, 3, 4]\n",
      "[-2, -1, 3, 4]\n",
      "[-2, -1, 3, 6]\n"
     ]
    },
    {
     "data": {
      "text/plain": [
       "[8, 6, 2, 4]"
      ]
     },
     "execution_count": 20,
     "metadata": {},
     "output_type": "execute_result"
    }
   ],
   "source": [
    "nums = [1,2,3,4]\n",
    "queries = [[1,0],[-3,1],[-4,0],[2,3]]\n",
    "\n",
    "\n",
    "fn = []\n",
    "\n",
    "for x in range(len(queries)):\n",
    "    nums[queries[x][1]] = nums[queries[x][1]] + queries[x][0]\n",
    "    print(nums)\n",
    "    evens = [x for x in nums if x % 2 == 0]\n",
    "            \n",
    "    fn.append(sum(evens))\n",
    "                   \n",
    "fn   \n",
    "    "
   ]
  },
  {
   "cell_type": "code",
   "execution_count": null,
   "id": "b0487d6e",
   "metadata": {},
   "outputs": [],
   "source": []
  }
 ],
 "metadata": {
  "kernelspec": {
   "display_name": "Python 3",
   "language": "python",
   "name": "python3"
  },
  "language_info": {
   "codemirror_mode": {
    "name": "ipython",
    "version": 3
   },
   "file_extension": ".py",
   "mimetype": "text/x-python",
   "name": "python",
   "nbconvert_exporter": "python",
   "pygments_lexer": "ipython3",
   "version": "3.8.8"
  }
 },
 "nbformat": 4,
 "nbformat_minor": 5
}
