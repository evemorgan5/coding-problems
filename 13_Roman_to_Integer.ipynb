{
 "cells": [
  {
   "cell_type": "code",
   "execution_count": 16,
   "id": "915da079",
   "metadata": {},
   "outputs": [
    {
     "ename": "SyntaxError",
     "evalue": "invalid syntax (<ipython-input-16-f18579220c29>, line 4)",
     "output_type": "error",
     "traceback": [
      "\u001b[0;36m  File \u001b[0;32m\"<ipython-input-16-f18579220c29>\"\u001b[0;36m, line \u001b[0;32m4\u001b[0m\n\u001b[0;31m    annoying =\u001b[0m\n\u001b[0m               ^\u001b[0m\n\u001b[0;31mSyntaxError\u001b[0m\u001b[0;31m:\u001b[0m invalid syntax\n"
     ]
    }
   ],
   "source": [
    "\n",
    "mapping = {\"I\": 1, \"V\": 5, \"X\": 10, \"L\": 50, \"C\": 100, \"D\": 500, \"M\": 1000, \n",
    "           \"IV\": 4, \"IX\": 9, \"XL\": 40, \"XC\": 90, \"CD\": 400, \"CM\": 900}\n",
    "\n",
    "annoying = (\"IV\", \"IX\", \"XL\", \"XC\", \"CD\", \"CM\")\n",
    "\n",
    "s = \"LXXII\"\n",
    "\n",
    "    \n",
    "int_ls = []\n",
    "for value in s:\n",
    "    int_ls.append(mapping[value])\n",
    "    \n",
    "    \n",
    "sum(int_ls)\n",
    "\n",
    "\n",
    "\n",
    "    \n",
    "tokens = []\n",
    "i = 0 \n",
    "while i < len(s):\n",
    "    if s[i:i+2] in annoying:\n",
    "        tokens.append(s[i:i+2])\n",
    "        i += 2\n",
    "    else:\n",
    "        tokens.append(s[i:i+1])\n",
    "        i += 1 \n",
    "        \n",
    "        \n",
    "# filter lists on indexes/positions \n",
    "\n",
    "# slices (further filtering) a way to subset a list \n",
    "\n",
    "        \n",
    "        \n",
    "        \n",
    "        \n",
    "        "
   ]
  },
  {
   "cell_type": "code",
   "execution_count": null,
   "id": "195fd227",
   "metadata": {},
   "outputs": [],
   "source": []
  },
  {
   "cell_type": "code",
   "execution_count": null,
   "id": "1c3e933a",
   "metadata": {},
   "outputs": [],
   "source": []
  }
 ],
 "metadata": {
  "kernelspec": {
   "display_name": "Python 3",
   "language": "python",
   "name": "python3"
  },
  "language_info": {
   "codemirror_mode": {
    "name": "ipython",
    "version": 3
   },
   "file_extension": ".py",
   "mimetype": "text/x-python",
   "name": "python",
   "nbconvert_exporter": "python",
   "pygments_lexer": "ipython3",
   "version": "3.8.8"
  }
 },
 "nbformat": 4,
 "nbformat_minor": 5
}
